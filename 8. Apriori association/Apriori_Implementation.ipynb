{
  "nbformat": 4,
  "nbformat_minor": 0,
  "metadata": {
    "kernelspec": {
      "display_name": "Python 3",
      "language": "python",
      "name": "python3"
    },
    "language_info": {
      "codemirror_mode": {
        "name": "ipython",
        "version": 3
      },
      "file_extension": ".py",
      "mimetype": "text/x-python",
      "name": "python",
      "nbconvert_exporter": "python",
      "pygments_lexer": "ipython3",
      "version": "3.7.3"
    },
    "colab": {
      "name": "Apriori-Implementation.ipynb",
      "provenance": []
    }
  },
  "cells": [
    {
      "cell_type": "code",
      "metadata": {
        "id": "qLF5A78BWpGs"
      },
      "source": [
        "import pandas as pd"
      ],
      "execution_count": null,
      "outputs": []
    },
    {
      "cell_type": "code",
      "metadata": {
        "id": "OO-Ud69pWpHE"
      },
      "source": [
        "df = pd.read_csv('Market_Basket_Optimisation.csv', header = None)"
      ],
      "execution_count": null,
      "outputs": []
    },
    {
      "cell_type": "code",
      "metadata": {
        "id": "gq_yKxeQWpHG",
        "outputId": "5259d934-5833-44ac-f218-dca1aee7592e"
      },
      "source": [
        "df.head()"
      ],
      "execution_count": null,
      "outputs": [
        {
          "output_type": "execute_result",
          "data": {
            "text/html": [
              "<div>\n",
              "<style scoped>\n",
              "    .dataframe tbody tr th:only-of-type {\n",
              "        vertical-align: middle;\n",
              "    }\n",
              "\n",
              "    .dataframe tbody tr th {\n",
              "        vertical-align: top;\n",
              "    }\n",
              "\n",
              "    .dataframe thead th {\n",
              "        text-align: right;\n",
              "    }\n",
              "</style>\n",
              "<table border=\"1\" class=\"dataframe\">\n",
              "  <thead>\n",
              "    <tr style=\"text-align: right;\">\n",
              "      <th></th>\n",
              "      <th>0</th>\n",
              "      <th>1</th>\n",
              "      <th>2</th>\n",
              "      <th>3</th>\n",
              "      <th>4</th>\n",
              "      <th>5</th>\n",
              "      <th>6</th>\n",
              "      <th>7</th>\n",
              "      <th>8</th>\n",
              "      <th>9</th>\n",
              "      <th>10</th>\n",
              "      <th>11</th>\n",
              "      <th>12</th>\n",
              "      <th>13</th>\n",
              "      <th>14</th>\n",
              "      <th>15</th>\n",
              "      <th>16</th>\n",
              "      <th>17</th>\n",
              "      <th>18</th>\n",
              "      <th>19</th>\n",
              "    </tr>\n",
              "  </thead>\n",
              "  <tbody>\n",
              "    <tr>\n",
              "      <th>0</th>\n",
              "      <td>shrimp</td>\n",
              "      <td>almonds</td>\n",
              "      <td>avocado</td>\n",
              "      <td>vegetables mix</td>\n",
              "      <td>green grapes</td>\n",
              "      <td>whole weat flour</td>\n",
              "      <td>yams</td>\n",
              "      <td>cottage cheese</td>\n",
              "      <td>energy drink</td>\n",
              "      <td>tomato juice</td>\n",
              "      <td>low fat yogurt</td>\n",
              "      <td>green tea</td>\n",
              "      <td>honey</td>\n",
              "      <td>salad</td>\n",
              "      <td>mineral water</td>\n",
              "      <td>salmon</td>\n",
              "      <td>antioxydant juice</td>\n",
              "      <td>frozen smoothie</td>\n",
              "      <td>spinach</td>\n",
              "      <td>olive oil</td>\n",
              "    </tr>\n",
              "    <tr>\n",
              "      <th>1</th>\n",
              "      <td>burgers</td>\n",
              "      <td>meatballs</td>\n",
              "      <td>eggs</td>\n",
              "      <td>NaN</td>\n",
              "      <td>NaN</td>\n",
              "      <td>NaN</td>\n",
              "      <td>NaN</td>\n",
              "      <td>NaN</td>\n",
              "      <td>NaN</td>\n",
              "      <td>NaN</td>\n",
              "      <td>NaN</td>\n",
              "      <td>NaN</td>\n",
              "      <td>NaN</td>\n",
              "      <td>NaN</td>\n",
              "      <td>NaN</td>\n",
              "      <td>NaN</td>\n",
              "      <td>NaN</td>\n",
              "      <td>NaN</td>\n",
              "      <td>NaN</td>\n",
              "      <td>NaN</td>\n",
              "    </tr>\n",
              "    <tr>\n",
              "      <th>2</th>\n",
              "      <td>chutney</td>\n",
              "      <td>NaN</td>\n",
              "      <td>NaN</td>\n",
              "      <td>NaN</td>\n",
              "      <td>NaN</td>\n",
              "      <td>NaN</td>\n",
              "      <td>NaN</td>\n",
              "      <td>NaN</td>\n",
              "      <td>NaN</td>\n",
              "      <td>NaN</td>\n",
              "      <td>NaN</td>\n",
              "      <td>NaN</td>\n",
              "      <td>NaN</td>\n",
              "      <td>NaN</td>\n",
              "      <td>NaN</td>\n",
              "      <td>NaN</td>\n",
              "      <td>NaN</td>\n",
              "      <td>NaN</td>\n",
              "      <td>NaN</td>\n",
              "      <td>NaN</td>\n",
              "    </tr>\n",
              "    <tr>\n",
              "      <th>3</th>\n",
              "      <td>turkey</td>\n",
              "      <td>avocado</td>\n",
              "      <td>NaN</td>\n",
              "      <td>NaN</td>\n",
              "      <td>NaN</td>\n",
              "      <td>NaN</td>\n",
              "      <td>NaN</td>\n",
              "      <td>NaN</td>\n",
              "      <td>NaN</td>\n",
              "      <td>NaN</td>\n",
              "      <td>NaN</td>\n",
              "      <td>NaN</td>\n",
              "      <td>NaN</td>\n",
              "      <td>NaN</td>\n",
              "      <td>NaN</td>\n",
              "      <td>NaN</td>\n",
              "      <td>NaN</td>\n",
              "      <td>NaN</td>\n",
              "      <td>NaN</td>\n",
              "      <td>NaN</td>\n",
              "    </tr>\n",
              "    <tr>\n",
              "      <th>4</th>\n",
              "      <td>mineral water</td>\n",
              "      <td>milk</td>\n",
              "      <td>energy bar</td>\n",
              "      <td>whole wheat rice</td>\n",
              "      <td>green tea</td>\n",
              "      <td>NaN</td>\n",
              "      <td>NaN</td>\n",
              "      <td>NaN</td>\n",
              "      <td>NaN</td>\n",
              "      <td>NaN</td>\n",
              "      <td>NaN</td>\n",
              "      <td>NaN</td>\n",
              "      <td>NaN</td>\n",
              "      <td>NaN</td>\n",
              "      <td>NaN</td>\n",
              "      <td>NaN</td>\n",
              "      <td>NaN</td>\n",
              "      <td>NaN</td>\n",
              "      <td>NaN</td>\n",
              "      <td>NaN</td>\n",
              "    </tr>\n",
              "  </tbody>\n",
              "</table>\n",
              "</div>"
            ],
            "text/plain": [
              "              0          1           2                 3             4   \\\n",
              "0         shrimp    almonds     avocado    vegetables mix  green grapes   \n",
              "1        burgers  meatballs        eggs               NaN           NaN   \n",
              "2        chutney        NaN         NaN               NaN           NaN   \n",
              "3         turkey    avocado         NaN               NaN           NaN   \n",
              "4  mineral water       milk  energy bar  whole wheat rice     green tea   \n",
              "\n",
              "                 5     6               7             8             9   \\\n",
              "0  whole weat flour  yams  cottage cheese  energy drink  tomato juice   \n",
              "1               NaN   NaN             NaN           NaN           NaN   \n",
              "2               NaN   NaN             NaN           NaN           NaN   \n",
              "3               NaN   NaN             NaN           NaN           NaN   \n",
              "4               NaN   NaN             NaN           NaN           NaN   \n",
              "\n",
              "               10         11     12     13             14      15  \\\n",
              "0  low fat yogurt  green tea  honey  salad  mineral water  salmon   \n",
              "1             NaN        NaN    NaN    NaN            NaN     NaN   \n",
              "2             NaN        NaN    NaN    NaN            NaN     NaN   \n",
              "3             NaN        NaN    NaN    NaN            NaN     NaN   \n",
              "4             NaN        NaN    NaN    NaN            NaN     NaN   \n",
              "\n",
              "                  16               17       18         19  \n",
              "0  antioxydant juice  frozen smoothie  spinach  olive oil  \n",
              "1                NaN              NaN      NaN        NaN  \n",
              "2                NaN              NaN      NaN        NaN  \n",
              "3                NaN              NaN      NaN        NaN  \n",
              "4                NaN              NaN      NaN        NaN  "
            ]
          },
          "metadata": {
            "tags": []
          },
          "execution_count": 6
        }
      ]
    },
    {
      "cell_type": "code",
      "metadata": {
        "id": "stWoIMyNWpHK",
        "outputId": "1b1434b4-b9f1-4c1e-cbbe-00cca2a402e9"
      },
      "source": [
        "df.info()"
      ],
      "execution_count": null,
      "outputs": [
        {
          "output_type": "stream",
          "text": [
            "<class 'pandas.core.frame.DataFrame'>\n",
            "RangeIndex: 7501 entries, 0 to 7500\n",
            "Data columns (total 20 columns):\n",
            "0     7501 non-null object\n",
            "1     5747 non-null object\n",
            "2     4389 non-null object\n",
            "3     3345 non-null object\n",
            "4     2529 non-null object\n",
            "5     1864 non-null object\n",
            "6     1369 non-null object\n",
            "7     981 non-null object\n",
            "8     654 non-null object\n",
            "9     395 non-null object\n",
            "10    256 non-null object\n",
            "11    154 non-null object\n",
            "12    87 non-null object\n",
            "13    47 non-null object\n",
            "14    25 non-null object\n",
            "15    8 non-null object\n",
            "16    4 non-null object\n",
            "17    4 non-null object\n",
            "18    3 non-null object\n",
            "19    1 non-null object\n",
            "dtypes: object(20)\n",
            "memory usage: 1.1+ MB\n"
          ],
          "name": "stdout"
        }
      ]
    },
    {
      "cell_type": "code",
      "metadata": {
        "id": "sbOO57UFWpHM",
        "outputId": "449987d6-ad6a-404b-fd10-513ff9512f41"
      },
      "source": [
        "df[1][0:3]"
      ],
      "execution_count": null,
      "outputs": [
        {
          "output_type": "execute_result",
          "data": {
            "text/plain": [
              "0      almonds\n",
              "1    meatballs\n",
              "2          NaN\n",
              "Name: 1, dtype: object"
            ]
          },
          "metadata": {
            "tags": []
          },
          "execution_count": 10
        }
      ]
    },
    {
      "cell_type": "code",
      "metadata": {
        "id": "gn6alz4aWpHR"
      },
      "source": [
        "transactions = []\n",
        "for i in range(0,7501):\n",
        "    transactions.append([str(df.iloc[i,j]) for j in range(0,20) if str(df.iloc[i,j])!='nan'])"
      ],
      "execution_count": null,
      "outputs": []
    },
    {
      "cell_type": "code",
      "metadata": {
        "id": "pW-_c1WwWpHS"
      },
      "source": [
        "transactions"
      ],
      "execution_count": null,
      "outputs": []
    },
    {
      "cell_type": "code",
      "metadata": {
        "id": "5FGpcP8QWpHT",
        "outputId": "a232ac07-cc0c-4c5e-d1cb-8cc0d4b6260d"
      },
      "source": [
        "len(transactions)"
      ],
      "execution_count": null,
      "outputs": [
        {
          "output_type": "execute_result",
          "data": {
            "text/plain": [
              "7501"
            ]
          },
          "metadata": {
            "tags": []
          },
          "execution_count": 12
        }
      ]
    },
    {
      "cell_type": "code",
      "metadata": {
        "id": "0ciq8j50WpHV",
        "outputId": "00aacb9e-eb8d-4012-be01-37483048cd1a"
      },
      "source": [
        "len(transactions[1])"
      ],
      "execution_count": null,
      "outputs": [
        {
          "output_type": "execute_result",
          "data": {
            "text/plain": [
              "3"
            ]
          },
          "metadata": {
            "tags": []
          },
          "execution_count": 15
        }
      ]
    },
    {
      "cell_type": "code",
      "metadata": {
        "id": "sXQ96WQhWpHY"
      },
      "source": [
        "from apyori import apriori"
      ],
      "execution_count": null,
      "outputs": []
    },
    {
      "cell_type": "code",
      "metadata": {
        "id": "oXD04F9tWpHZ"
      },
      "source": [
        "rules = apriori(transactions, min_support = 0.005, min_confidence = 0.5, min_lift = 3, max_length  =4)"
      ],
      "execution_count": null,
      "outputs": []
    },
    {
      "cell_type": "code",
      "metadata": {
        "id": "o_ff9kvcWpHa",
        "outputId": "419fb754-43ec-4a1c-8e8c-038714917ed6"
      },
      "source": [
        "type(rules)"
      ],
      "execution_count": null,
      "outputs": [
        {
          "output_type": "execute_result",
          "data": {
            "text/plain": [
              "generator"
            ]
          },
          "metadata": {
            "tags": []
          },
          "execution_count": 76
        }
      ]
    },
    {
      "cell_type": "code",
      "metadata": {
        "id": "CKoBUEydWpHb",
        "outputId": "e557bc21-9cfa-4d4f-991e-23f65344aa30"
      },
      "source": [
        "rules"
      ],
      "execution_count": null,
      "outputs": [
        {
          "output_type": "execute_result",
          "data": {
            "text/plain": [
              "<generator object apriori at 0x000000B2160AC930>"
            ]
          },
          "metadata": {
            "tags": []
          },
          "execution_count": 77
        }
      ]
    },
    {
      "cell_type": "code",
      "metadata": {
        "id": "RnGFK3WVWpHc"
      },
      "source": [
        "rules = list(rules)"
      ],
      "execution_count": null,
      "outputs": []
    },
    {
      "cell_type": "code",
      "metadata": {
        "id": "JwoL0sN9WpHd",
        "outputId": "0936e3e6-6cf4-4301-a669-774c9516ed33"
      },
      "source": [
        "len(rules)"
      ],
      "execution_count": null,
      "outputs": [
        {
          "output_type": "execute_result",
          "data": {
            "text/plain": [
              "1"
            ]
          },
          "metadata": {
            "tags": []
          },
          "execution_count": 79
        }
      ]
    },
    {
      "cell_type": "code",
      "metadata": {
        "id": "S6ba-wWhWpHe",
        "outputId": "9c3b9c1d-e4e7-4165-a725-afbf593f8016"
      },
      "source": [
        "rules"
      ],
      "execution_count": null,
      "outputs": [
        {
          "output_type": "execute_result",
          "data": {
            "text/plain": [
              "[RelationRecord(items=frozenset({'shrimp', 'ground beef', 'spaghetti'}), support=0.005999200106652446, ordered_statistics=[OrderedStatistic(items_base=frozenset({'shrimp', 'ground beef'}), items_add=frozenset({'spaghetti'}), confidence=0.5232558139534884, lift=3.005315360233627)])]"
            ]
          },
          "metadata": {
            "tags": []
          },
          "execution_count": 80
        }
      ]
    },
    {
      "cell_type": "code",
      "metadata": {
        "id": "TRyzHt1zWpHg",
        "outputId": "94cd8241-c7b4-45c2-d05f-281ed5dbc52e"
      },
      "source": [
        "rule1"
      ],
      "execution_count": null,
      "outputs": [
        {
          "output_type": "execute_result",
          "data": {
            "text/plain": [
              "[RelationRecord(items=frozenset({'cereals', 'ground beef', 'spaghetti'}), support=0.0030662578322890282, ordered_statistics=[OrderedStatistic(items_base=frozenset({'cereals', 'ground beef'}), items_add=frozenset({'spaghetti'}), confidence=0.6764705882352942, lift=3.8853031258445188)]),\n",
              " RelationRecord(items=frozenset({'chicken', 'milk', 'olive oil'}), support=0.0035995200639914677, ordered_statistics=[OrderedStatistic(items_base=frozenset({'chicken', 'olive oil'}), items_add=frozenset({'milk'}), confidence=0.5, lift=3.858539094650206)])]"
            ]
          },
          "metadata": {
            "tags": []
          },
          "execution_count": 63
        }
      ]
    },
    {
      "cell_type": "code",
      "metadata": {
        "id": "cD2M2by2WpHj"
      },
      "source": [
        "df = pd.DataFrame(columns = ['Items add', 'items base', 'confidence'])"
      ],
      "execution_count": null,
      "outputs": []
    },
    {
      "cell_type": "code",
      "metadata": {
        "id": "3CY34hZ-WpHj"
      },
      "source": [
        "for i in range(len(rules)):\n",
        "    ib = rules[i].ordered_statistics[0].items_base\n",
        "    ia = rules[i].ordered_statistics[0].items_add\n",
        "    c = rules[i].ordered_statistics[0].confidence\n",
        "    df.loc[i] = [ia, ib, c]"
      ],
      "execution_count": null,
      "outputs": []
    },
    {
      "cell_type": "code",
      "metadata": {
        "id": "VTH358f2WpHk",
        "outputId": "4bba2cf9-59e1-4ccf-9bab-cabf49406c1b"
      },
      "source": [
        "df"
      ],
      "execution_count": null,
      "outputs": [
        {
          "output_type": "execute_result",
          "data": {
            "text/html": [
              "<div>\n",
              "<style scoped>\n",
              "    .dataframe tbody tr th:only-of-type {\n",
              "        vertical-align: middle;\n",
              "    }\n",
              "\n",
              "    .dataframe tbody tr th {\n",
              "        vertical-align: top;\n",
              "    }\n",
              "\n",
              "    .dataframe thead th {\n",
              "        text-align: right;\n",
              "    }\n",
              "</style>\n",
              "<table border=\"1\" class=\"dataframe\">\n",
              "  <thead>\n",
              "    <tr style=\"text-align: right;\">\n",
              "      <th></th>\n",
              "      <th>Items add</th>\n",
              "      <th>items base</th>\n",
              "      <th>confidence</th>\n",
              "    </tr>\n",
              "  </thead>\n",
              "  <tbody>\n",
              "    <tr>\n",
              "      <th>0</th>\n",
              "      <td>(spaghetti)</td>\n",
              "      <td>(cereals, ground beef)</td>\n",
              "      <td>0.676471</td>\n",
              "    </tr>\n",
              "    <tr>\n",
              "      <th>1</th>\n",
              "      <td>(milk)</td>\n",
              "      <td>(chicken, olive oil)</td>\n",
              "      <td>0.500000</td>\n",
              "    </tr>\n",
              "    <tr>\n",
              "      <th>2</th>\n",
              "      <td>(spaghetti)</td>\n",
              "      <td>(cooking oil, ground beef)</td>\n",
              "      <td>0.571429</td>\n",
              "    </tr>\n",
              "    <tr>\n",
              "      <th>3</th>\n",
              "      <td>(spaghetti)</td>\n",
              "      <td>(red wine, eggs)</td>\n",
              "      <td>0.528302</td>\n",
              "    </tr>\n",
              "    <tr>\n",
              "      <th>4</th>\n",
              "      <td>(milk)</td>\n",
              "      <td>(soup, frozen vegetables)</td>\n",
              "      <td>0.500000</td>\n",
              "    </tr>\n",
              "    <tr>\n",
              "      <th>5</th>\n",
              "      <td>(spaghetti)</td>\n",
              "      <td>(shrimp, ground beef)</td>\n",
              "      <td>0.523256</td>\n",
              "    </tr>\n",
              "    <tr>\n",
              "      <th>6</th>\n",
              "      <td>(spaghetti)</td>\n",
              "      <td>(ground beef, tomato sauce)</td>\n",
              "      <td>0.575000</td>\n",
              "    </tr>\n",
              "    <tr>\n",
              "      <th>7</th>\n",
              "      <td>(spaghetti)</td>\n",
              "      <td>(tomatoes, olive oil)</td>\n",
              "      <td>0.611111</td>\n",
              "    </tr>\n",
              "    <tr>\n",
              "      <th>8</th>\n",
              "      <td>(spaghetti)</td>\n",
              "      <td>(chocolate, ground beef, frozen vegetables)</td>\n",
              "      <td>0.534884</td>\n",
              "    </tr>\n",
              "    <tr>\n",
              "      <th>9</th>\n",
              "      <td>(spaghetti)</td>\n",
              "      <td>(milk, ground beef, frozen vegetables)</td>\n",
              "      <td>0.534884</td>\n",
              "    </tr>\n",
              "    <tr>\n",
              "      <th>10</th>\n",
              "      <td>(milk)</td>\n",
              "      <td>(mineral water, frozen vegetables, olive oil)</td>\n",
              "      <td>0.510204</td>\n",
              "    </tr>\n",
              "    <tr>\n",
              "      <th>11</th>\n",
              "      <td>(mineral water)</td>\n",
              "      <td>(soup, milk, frozen vegetables)</td>\n",
              "      <td>0.766667</td>\n",
              "    </tr>\n",
              "    <tr>\n",
              "      <th>12</th>\n",
              "      <td>(spaghetti)</td>\n",
              "      <td>(tomatoes, mineral water, frozen vegetables)</td>\n",
              "      <td>0.522727</td>\n",
              "    </tr>\n",
              "    <tr>\n",
              "      <th>13</th>\n",
              "      <td>(spaghetti)</td>\n",
              "      <td>(tomatoes, ground beef, mineral water)</td>\n",
              "      <td>0.560976</td>\n",
              "    </tr>\n",
              "  </tbody>\n",
              "</table>\n",
              "</div>"
            ],
            "text/plain": [
              "          Items add                                     items base  confidence\n",
              "0       (spaghetti)                         (cereals, ground beef)    0.676471\n",
              "1            (milk)                           (chicken, olive oil)    0.500000\n",
              "2       (spaghetti)                     (cooking oil, ground beef)    0.571429\n",
              "3       (spaghetti)                               (red wine, eggs)    0.528302\n",
              "4            (milk)                      (soup, frozen vegetables)    0.500000\n",
              "5       (spaghetti)                          (shrimp, ground beef)    0.523256\n",
              "6       (spaghetti)                    (ground beef, tomato sauce)    0.575000\n",
              "7       (spaghetti)                          (tomatoes, olive oil)    0.611111\n",
              "8       (spaghetti)    (chocolate, ground beef, frozen vegetables)    0.534884\n",
              "9       (spaghetti)         (milk, ground beef, frozen vegetables)    0.534884\n",
              "10           (milk)  (mineral water, frozen vegetables, olive oil)    0.510204\n",
              "11  (mineral water)                (soup, milk, frozen vegetables)    0.766667\n",
              "12      (spaghetti)   (tomatoes, mineral water, frozen vegetables)    0.522727\n",
              "13      (spaghetti)         (tomatoes, ground beef, mineral water)    0.560976"
            ]
          },
          "metadata": {
            "tags": []
          },
          "execution_count": 67
        }
      ]
    }
  ]
}